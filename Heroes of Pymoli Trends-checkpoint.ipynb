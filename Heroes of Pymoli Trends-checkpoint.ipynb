{
 "cells": [
  {
   "cell_type": "code",
   "execution_count": null,
   "id": "a48935ff",
   "metadata": {},
   "outputs": [],
   "source": [
    "#  written description of three observable trends based on the data.\n",
    "\n",
    "# First Trend: Male is the primary gender that plays the Heroes of Pymoli game as noted with 84.03%.\n",
    "# Second Trend: The 20-24 age range accounts for the largest purchase count of 365 with a purchase value of $1,114.06.\n",
    "# Third Trend: Final Critic is the most profitable and most popular item. \n"
   ]
  }
 ],
 "metadata": {
  "kernelspec": {
   "display_name": "Python 3 (ipykernel)",
   "language": "python",
   "name": "python3"
  },
  "language_info": {
   "codemirror_mode": {
    "name": "ipython",
    "version": 3
   },
   "file_extension": ".py",
   "mimetype": "text/x-python",
   "name": "python",
   "nbconvert_exporter": "python",
   "pygments_lexer": "ipython3",
   "version": "3.9.7"
  }
 },
 "nbformat": 4,
 "nbformat_minor": 5
}
